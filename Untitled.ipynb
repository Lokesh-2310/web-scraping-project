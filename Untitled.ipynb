{
 "cells": [
  {
   "cell_type": "code",
   "execution_count": 67,
   "id": "bc749b35",
   "metadata": {},
   "outputs": [],
   "source": [
    "from bs4 import BeautifulSoup"
   ]
  },
  {
   "cell_type": "code",
   "execution_count": 68,
   "id": "d88535ce",
   "metadata": {},
   "outputs": [],
   "source": [
    "with open('flip.html', 'r', encoding='utf-8') as file:\n",
    "    html_content = file.read()\n",
    "soup = BeautifulSoup(html_content, 'html.parser')"
   ]
  },
  {
   "cell_type": "code",
   "execution_count": 107,
   "id": "f03ba540",
   "metadata": {},
   "outputs": [],
   "source": [
    "container=soup.find_all('div', class_='_1YokD2 _3Mn1Gg')"
   ]
  },
  {
   "cell_type": "code",
   "execution_count": 101,
   "id": "33cfcd04",
   "metadata": {},
   "outputs": [],
   "source": [
    "import numpy as np\n",
    "name=[]\n",
    "price=[]\n",
    "stars=[]\n",
    "ratings=[]\n",
    "reviews=[]\n",
    "ram=[]\n",
    "display=[]\n",
    "camera=[]\n",
    "battery=[]\n",
    "processor=[]\n",
    "for j in container:\n",
    "    l=j.find_all('div',class_='_13oc-S')\n",
    "    counter=0\n",
    "    for i in j:\n",
    "        try:\n",
    "            name.append(i.find('div', class_='_4rR01T').text.strip())\n",
    "        except:\n",
    "            name.append(np.nan)\n",
    "        try:    \n",
    "            price.append(i.find('div',class_='_30jeq3 _1_WHN1').text.strip())\n",
    "        except:\n",
    "            price.append(np.nan)\n",
    "        try:\n",
    "            stars.append(i.find('div',class_='_3LWZlK').text.strip())\n",
    "        except:\n",
    "            stars.append(np.nan)\n",
    "        span_tag=i.find('span',class_='_2_R_DZ')\n",
    "        try:\n",
    "            ratings.append(span_tag.find_all('span')[1].text.strip())\n",
    "        except:\n",
    "            ratings.append(np.nan)\n",
    "        try:\n",
    "            reviews.append(span_tag.find_all('span')[3].text.strip())\n",
    "        except:\n",
    "            reviews.append(np.nan)\n",
    "        \n",
    "        li_tag=i.find_all('li',class_='rgWa7D')\n",
    "        try:\n",
    "            ram.append((li_tag[0].text.strip()))\n",
    "        except:\n",
    "            ram.append(np.nan)\n",
    "        try:\n",
    "            display.append((li_tag[1].text.strip()))\n",
    "        except:\n",
    "            display.append(np.nan)\n",
    "        try:\n",
    "            camera.append((li_tag[2].text.strip()))\n",
    "        except:\n",
    "            camera.append(np.nan)\n",
    "        try:\n",
    "            battery.append((li_tag[3].text.strip()))\n",
    "        except:\n",
    "            battery.append(np.nan)\n",
    "        try:\n",
    "            processor.append((li_tag[4].text.strip())) \n",
    "        except:\n",
    "            processor.append(np.nan)"
   ]
  },
  {
   "cell_type": "code",
   "execution_count": 91,
   "id": "2263effa",
   "metadata": {},
   "outputs": [],
   "source": [
    "import pandas as pd"
   ]
  },
  {
   "cell_type": "code",
   "execution_count": 103,
   "id": "b2366a06",
   "metadata": {},
   "outputs": [],
   "source": [
    "df=pd.DataFrame({'name':name,'price':price,'stars':stars,'ratings':ratings,\"reviews\":reviews,'ram':ram,'display':display,'camera':camera,'battery':battery,'processor':processor})"
   ]
  },
  {
   "cell_type": "code",
   "execution_count": 105,
   "id": "48870519",
   "metadata": {},
   "outputs": [],
   "source": [
    "df.to_csv('phones.csv',index=False)"
   ]
  }
 ],
 "metadata": {
  "kernelspec": {
   "display_name": "Python 3 (ipykernel)",
   "language": "python",
   "name": "python3"
  },
  "language_info": {
   "codemirror_mode": {
    "name": "ipython",
    "version": 3
   },
   "file_extension": ".py",
   "mimetype": "text/x-python",
   "name": "python",
   "nbconvert_exporter": "python",
   "pygments_lexer": "ipython3",
   "version": "3.11.0"
  }
 },
 "nbformat": 4,
 "nbformat_minor": 5
}
